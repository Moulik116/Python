{
 "cells": [
  {
   "cell_type": "markdown",
   "id": "2719e259",
   "metadata": {},
   "source": [
    "### Lambda Functions"
   ]
  },
  {
   "cell_type": "code",
   "execution_count": 6,
   "id": "75261164",
   "metadata": {},
   "outputs": [
    {
     "name": "stdout",
     "output_type": "stream",
     "text": [
      "30\n"
     ]
    }
   ],
   "source": [
    "def get_sum(a,b):\n",
    "    return a+b\n",
    "print(get_sum(10,20))"
   ]
  },
  {
   "cell_type": "code",
   "execution_count": 3,
   "id": "0b53afda",
   "metadata": {},
   "outputs": [
    {
     "name": "stdout",
     "output_type": "stream",
     "text": [
      "30\n"
     ]
    }
   ],
   "source": [
    "fun =lambda a,b:a+b\n",
    "print(fun(10,20))"
   ]
  },
  {
   "cell_type": "code",
   "execution_count": 5,
   "id": "cbc20964",
   "metadata": {},
   "outputs": [
    {
     "name": "stdout",
     "output_type": "stream",
     "text": [
      "30\n"
     ]
    }
   ],
   "source": [
    "print((lambda a,b:a+b)(10,20))"
   ]
  },
  {
   "cell_type": "code",
   "execution_count": 7,
   "id": "4bd0a91b",
   "metadata": {},
   "outputs": [
    {
     "name": "stdout",
     "output_type": "stream",
     "text": [
      "Even\n",
      "Even\n"
     ]
    }
   ],
   "source": [
    "def is_even_odd(n):\n",
    "    if(n%2==0):\n",
    "        return \"Even\"\n",
    "    else:\n",
    "        return \"Odd\"\n",
    "    \n",
    "fun=lambda n:\"Even\" if n%2==0 else  \"Odd\"\n",
    "print(is_even_odd(4))\n",
    "print(fun(4))"
   ]
  },
  {
   "cell_type": "code",
   "execution_count": 9,
   "id": "3b98e5c4",
   "metadata": {},
   "outputs": [
    {
     "name": "stdout",
     "output_type": "stream",
     "text": [
      "375\n",
      "40\n"
     ]
    }
   ],
   "source": [
    "fun =lambda a,b,op: a+b if op==\"+\" else a-b if op==\"-\" else a*b if op==\"*\" else a/b\n",
    "\n",
    "print(fun(15,25,\"*\"))\n",
    "print(fun(15,25,\"+\"))"
   ]
  },
  {
   "cell_type": "code",
   "execution_count": null,
   "id": "3999e2e0",
   "metadata": {},
   "outputs": [
    {
     "name": "stdout",
     "output_type": "stream",
     "text": [
      "[[10, 500], [20, 300], [15, 600], [30, 250]]\n",
      "[[10, 500], [20, 300], [30, 250], [15, 600]]\n"
     ]
    }
   ],
   "source": [
    "# sorting list using lambda function\n",
    "nums=[[10,500],[20,300],[15,600],[30,250]]\n",
    "print(nums)\n",
    "# nums.sort()\n",
    "# nums.sort(key=lambda x:x[1])\n",
    "nums.sort(key=lambda x:x[0]*x[1])\n",
    "# nums.sort(reverse=True)\n",
    "print(nums)"
   ]
  },
  {
   "cell_type": "markdown",
   "id": "f8edda07",
   "metadata": {},
   "source": [
    "### Concept of __name__=\"__main__\""
   ]
  },
  {
   "cell_type": "code",
   "execution_count": null,
   "id": "86a968f9",
   "metadata": {},
   "outputs": [],
   "source": [
    "# refer to intro.py and sample.py"
   ]
  },
  {
   "cell_type": "markdown",
   "id": "44b12973",
   "metadata": {},
   "source": [
    "### *args and **kwargs"
   ]
  },
  {
   "cell_type": "code",
   "execution_count": 7,
   "id": "561177dc",
   "metadata": {},
   "outputs": [
    {
     "name": "stdout",
     "output_type": "stream",
     "text": [
      "<class 'tuple'>\n",
      "<class 'tuple'>\n",
      "<class 'tuple'>\n"
     ]
    },
    {
     "data": {
      "text/plain": [
       "(30, 60, 150)"
      ]
     },
     "execution_count": 7,
     "metadata": {},
     "output_type": "execute_result"
    }
   ],
   "source": [
    "# def get_sum(a,b):\n",
    "#     pass\n",
    "# def get_sum(a,b,c):\n",
    "#     pass\n",
    "# def get_sum(a,b,c,d,e):\n",
    "#     pass\n",
    "\n",
    "def get_sum(*args):\n",
    "    print(type(args))\n",
    "    sum=0\n",
    "    for n in args:\n",
    "        sum+=n\n",
    "    return sum\n",
    "\n",
    "get_sum(10,20),get_sum(10,20,30),get_sum(10,20,30,40,50)"
   ]
  },
  {
   "cell_type": "code",
   "execution_count": null,
   "id": "7f1d56c3",
   "metadata": {},
   "outputs": [
    {
     "ename": "TypeError",
     "evalue": "'int' object is not callable",
     "output_type": "error",
     "traceback": [
      "\u001b[1;31m---------------------------------------------------------------------------\u001b[0m",
      "\u001b[1;31mTypeError\u001b[0m                                 Traceback (most recent call last)",
      "Cell \u001b[1;32mIn[24], line 1\u001b[0m\n\u001b[1;32m----> 1\u001b[0m \u001b[38;5;28mprint\u001b[39m(\u001b[38;5;124m\"\u001b[39m\u001b[38;5;124mhello\u001b[39m\u001b[38;5;124m\"\u001b[39m)\n",
      "\u001b[1;31mTypeError\u001b[0m: 'int' object is not callable"
     ]
    }
   ],
   "source": [
    "print=10\n",
    "print(\"hello\")"
   ]
  },
  {
   "cell_type": "code",
   "execution_count": 12,
   "id": "fd9cec39",
   "metadata": {},
   "outputs": [
    {
     "name": "stdout",
     "output_type": "stream",
     "text": [
      "Name:Moulik\n",
      "Age:21\n",
      "Balance: 2500\n",
      "Name:Moulik\n",
      "Age:30\n",
      "Balance: 2500\n",
      "Name:Moulik\n",
      "Age:30\n",
      "Balance: 2500\n"
     ]
    }
   ],
   "source": [
    "def print_info(amt1,amt2,name,age):\n",
    "    print(f\"Name:{name}\")\n",
    "    print(f\"Age:{age}\")\n",
    "    print(f\"Balance: {amt1+amt2}\")\n",
    "\n",
    "#unnamed parameters / postiional arguments\n",
    "print_info(1000,1500,\"Moulik\",21)\n",
    "#named parameters / keyword arguments\n",
    "print_info(amt1=1000,amt2=1500,name=\"Moulik\",age=30)\n",
    "\n",
    "print_info(1000,1500,age=30,name=\"Moulik\")"
   ]
  },
  {
   "cell_type": "code",
   "execution_count": 16,
   "id": "01546b8d",
   "metadata": {},
   "outputs": [
    {
     "name": "stdout",
     "output_type": "stream",
     "text": [
      "{'amt1': 1000, 'amt2': 1500, 'name': 'Moulik', 'age': 30}\n",
      "<class 'dict'>\n"
     ]
    }
   ],
   "source": [
    "def print_info(**kwargs):\n",
    "    print(kwargs)\n",
    "    print(type(kwargs))\n",
    "print_info(amt1=1000,amt2=1500,name=\"Moulik\",age=30)"
   ]
  },
  {
   "cell_type": "code",
   "execution_count": 18,
   "id": "7cf1d381",
   "metadata": {},
   "outputs": [
    {
     "name": "stdout",
     "output_type": "stream",
     "text": [
      "{'name': 'Moulik', 'age': 30}\n",
      "<class 'dict'>\n",
      "(1000, 1500)\n",
      "<class 'tuple'>\n"
     ]
    }
   ],
   "source": [
    "def print_info(*args,**kwargs):\n",
    "    print(kwargs)\n",
    "    print(type(kwargs))\n",
    "    print(args)\n",
    "    print(type(args))\n",
    "print_info(1000,1500,name=\"Moulik\",age=30)"
   ]
  },
  {
   "cell_type": "code",
   "execution_count": null,
   "id": "91068258",
   "metadata": {},
   "outputs": [],
   "source": []
  },
  {
   "cell_type": "markdown",
   "id": "a30a2993",
   "metadata": {},
   "source": [
    "### Unpacking and Merging"
   ]
  },
  {
   "cell_type": "code",
   "execution_count": null,
   "id": "9e39db94",
   "metadata": {},
   "outputs": [
    {
     "name": "stdout",
     "output_type": "stream",
     "text": [
      "10 20 30\n",
      "70 40 10 80 50 20 90 60 30\n"
     ]
    }
   ],
   "source": [
    "nums=[10,20,30]\n",
    "n1,n2,n3=nums\n",
    "print(n1,n2,n3) # sequecne preserved in list\n",
    "\n",
    "nums={10,20,30,40,50,60,70,80,90}\n",
    "n1,n2,n3,n4,n5,n6,n7,n8,n9=nums\n",
    "print(n1,n2,n3,n4,n5,n6,n7,n8,n9) # sequence may not be preserved in sets"
   ]
  },
  {
   "cell_type": "code",
   "execution_count": null,
   "id": "de0a4f00",
   "metadata": {},
   "outputs": [
    {
     "name": "stdout",
     "output_type": "stream",
     "text": [
      "('name', 'Amit') ('age', 30)\n"
     ]
    }
   ],
   "source": [
    "info={\"name\":\"Amit\",\"age\":30}\n",
    "# v1,v2=info unnpacks only keys\n",
    "v1,v2=info.items()\n",
    "print(v1,v2)"
   ]
  },
  {
   "cell_type": "code",
   "execution_count": null,
   "id": "6adfdf4e",
   "metadata": {},
   "outputs": [
    {
     "name": "stdout",
     "output_type": "stream",
     "text": [
      "[10, 20, 30, 100, 200, 300] [100, 200, 300] [10, 20, 30, 100, 200, 300] [10, 20, 30, 100, 200, 300]\n"
     ]
    }
   ],
   "source": [
    "nums1=[10,20,30]\n",
    "nums2=[100,200,300]\n",
    "nums=nums1+nums2\n",
    "nums_=nums1  # both nums_ and nums1 refer to the same list\n",
    "nums_.extend(nums2)\n",
    "print(nums1,nums2,nums,nums_)"
   ]
  },
  {
   "cell_type": "code",
   "execution_count": 35,
   "id": "6b637e4c",
   "metadata": {},
   "outputs": [
    {
     "name": "stdout",
     "output_type": "stream",
     "text": [
      "[10, 20, 30] [100, 200, 300] [10, 20, 30, 100, 200, 300] [10, 20, 30, 100, 200, 300]\n"
     ]
    }
   ],
   "source": [
    "nums1=[10,20,30]\n",
    "nums2=[100,200,300]\n",
    "nums=nums1+nums2\n",
    "nums_=nums1.copy() \n",
    "nums_.extend(nums2)\n",
    "print(nums1,nums2,nums,nums_)"
   ]
  },
  {
   "cell_type": "code",
   "execution_count": null,
   "id": "6d19b789",
   "metadata": {},
   "outputs": [
    {
     "name": "stdout",
     "output_type": "stream",
     "text": [
      "[10, 20, 30] [100, 200, 300] [10, 20, 30, 100, 200, 300] [10, 20, 30, 100, 200, 300] [10, 20, 30, 100, 200, 300]\n"
     ]
    }
   ],
   "source": [
    "nums1=[10,20,30]\n",
    "nums2=[100,200,300]\n",
    "nums=nums1+nums2\n",
    "nums_=nums1.copy() \n",
    "nums_.extend(nums2)\n",
    "# nums_all=[nums1,nums2]\n",
    "nums_all=[*nums1,*nums2] # merging of collections\n",
    "print(nums1,nums2,nums,nums_,nums_all)"
   ]
  },
  {
   "cell_type": "markdown",
   "id": "e928f47c",
   "metadata": {},
   "source": [
    "# Generators and Iterators"
   ]
  },
  {
   "cell_type": "code",
   "execution_count": 50,
   "id": "51daca2f",
   "metadata": {},
   "outputs": [
    {
     "name": "stdout",
     "output_type": "stream",
     "text": [
      "0 1 2 3 4 5 6 7 8 9 "
     ]
    }
   ],
   "source": [
    "for i in range(10):\n",
    "    print(i,end=\" \")"
   ]
  },
  {
   "cell_type": "code",
   "execution_count": 53,
   "id": "18a3f5d0",
   "metadata": {},
   "outputs": [
    {
     "name": "stdout",
     "output_type": "stream",
     "text": [
      "28\n",
      "48\n"
     ]
    }
   ],
   "source": [
    "i=10\n",
    "print(i.__sizeof__())\n",
    "r=range(1,10000000)\n",
    "print(r.__sizeof__())"
   ]
  },
  {
   "cell_type": "markdown",
   "id": "81ac9022",
   "metadata": {},
   "source": [
    "### yield keyword: used to convert a function to a generator"
   ]
  },
  {
   "cell_type": "code",
   "execution_count": null,
   "id": "3e848779",
   "metadata": {},
   "outputs": [
    {
     "name": "stdout",
     "output_type": "stream",
     "text": [
      "<class 'generator'>\n",
      "100\n",
      "200\n"
     ]
    }
   ],
   "source": [
    "def fun():\n",
    "    yield(100)\n",
    "    yield(200)\n",
    "\n",
    "print(type(fun()))\n",
    "f=fun()\n",
    "print(next(f))\n",
    "print(next(f))\n",
    "# print(next(f)) # stop itteration error\n",
    "\n",
    "# def mygenerator(n1,n2):\n",
    "#     for i in range(n1,n2):\n",
    "#         print(i)\n",
    "\n",
    "# mygenerator(1,1000000)"
   ]
  },
  {
   "cell_type": "code",
   "execution_count": 67,
   "id": "c4a81dbc",
   "metadata": {},
   "outputs": [
    {
     "name": "stdout",
     "output_type": "stream",
     "text": [
      "1\n",
      "2\n"
     ]
    }
   ],
   "source": [
    "def mygenerator(n1,n2):\n",
    "    for i in range(n1,n2):\n",
    "        yield(i)\n",
    "\n",
    "f=mygenerator(1,100)\n",
    "print(next(f)) # prints 1\n",
    "print(next(f)) # prints 2"
   ]
  },
  {
   "cell_type": "code",
   "execution_count": null,
   "id": "249d21c0",
   "metadata": {},
   "outputs": [],
   "source": [
    "def mygenerator():\n",
    "    i=0\n",
    "    while(True):\n",
    "        yield(i)\n",
    "        i+=1\n",
    "\n",
    "f=mygenerator()\n",
    "while(True):\n",
    "    print(next(f)) "
   ]
  },
  {
   "cell_type": "markdown",
   "id": "d99109d6",
   "metadata": {},
   "source": [
    "### Custom range function for fractional values"
   ]
  },
  {
   "cell_type": "code",
   "execution_count": 73,
   "id": "e069092b",
   "metadata": {},
   "outputs": [
    {
     "name": "stdout",
     "output_type": "stream",
     "text": [
      "0 0.1 0.2 0.30000000000000004 0.4 0.5 0.6 0.7 0.7999999999999999 0.8999999999999999 0.9999999999999999 1.0999999999999999 1.2 1.3 1.4000000000000001 1.5000000000000002 1.6000000000000003 1.7000000000000004 1.8000000000000005 1.9000000000000006 "
     ]
    }
   ],
   "source": [
    "def my_range(start,end,step):\n",
    "    i=start\n",
    "    while(i<=end):\n",
    "        yield i\n",
    "        i+=step\n",
    "\n",
    "for n in my_range(0,2,0.1):\n",
    "    print(n,end=\" \")"
   ]
  },
  {
   "cell_type": "code",
   "execution_count": 1,
   "id": "440ce94a",
   "metadata": {},
   "outputs": [
    {
     "name": "stdout",
     "output_type": "stream",
     "text": [
      "10 20 30 40 50 "
     ]
    }
   ],
   "source": [
    "# iterator\n",
    "\n",
    "nums=[10,20,30,40,50]\n",
    "for n in nums:\n",
    "    print(n,end=\" \")"
   ]
  },
  {
   "cell_type": "code",
   "execution_count": 4,
   "id": "8c6e6c3f",
   "metadata": {},
   "outputs": [
    {
     "name": "stdout",
     "output_type": "stream",
     "text": [
      "11 12 13 14 15 16 17 18 19 "
     ]
    }
   ],
   "source": [
    "# custom iterator class\n",
    "class MyIterator:\n",
    "    def __init__(self,start,end):\n",
    "        self.start = start\n",
    "        self.end = end\n",
    "        self.current = start-1\n",
    "    \n",
    "    def __iter__(self):\n",
    "        return self\n",
    "    \n",
    "    def __next__(self):\n",
    "        if(self.current+1<self.end):\n",
    "            self.current+=1\n",
    "            return self.current\n",
    "        else:\n",
    "            raise StopIteration\n",
    "\n",
    "for i in MyIterator(11,20):\n",
    "    print(i,end=\" \")"
   ]
  },
  {
   "cell_type": "code",
   "execution_count": null,
   "id": "43c40612",
   "metadata": {},
   "outputs": [
    {
     "name": "stdout",
     "output_type": "stream",
     "text": [
      "11.924524576238653 15.013960084599132 14.480139017170355 19.5277515109276 18.580833209170457 12.774349939772518 19.940888455827064 13.835780756387528 18.05171878708439 0.10280551384809378\n"
     ]
    }
   ],
   "source": [
    "from random import random,randint,uniform\n",
    "class RandomBetween:\n",
    "    def __init__(self,low,high,count):\n",
    "        self.low = low\n",
    "        self.high = high\n",
    "        self.count = count\n",
    "        self.current = 0\n",
    "\n",
    "    def __iter__(self):\n",
    "        return self\n",
    "    \n",
    "\n",
    "    def __next__(self):\n",
    "       if(self.current+1<self.count):\n",
    "           self.current+=1\n",
    "        #  n=random()*(self.high-self.low)+self.low\n",
    "        #  n=randint(self.low,self.high-1)+random()\n",
    "           n=uniform (self.low,self.high)\n",
    "           return n\n",
    "       else:\n",
    "           raise StopIteration\n",
    "\n",
    "\n",
    "for i in RandomBetween(low=11,high=20,count=10):\n",
    "    print(i,end=\" \")\n"
   ]
  },
  {
   "cell_type": "code",
   "execution_count": 16,
   "id": "4bca8767",
   "metadata": {},
   "outputs": [
    {
     "name": "stdout",
     "output_type": "stream",
     "text": [
      "[100, 400, 900, 1600, 2500]\n"
     ]
    }
   ],
   "source": [
    "# functional programming in python\n",
    "nums=[10,20,30,40,50]\n",
    "squares=list(map(lambda x:x**2,nums))\n",
    "print(squares)"
   ]
  },
  {
   "cell_type": "code",
   "execution_count": 1,
   "id": "aefea9b3",
   "metadata": {},
   "outputs": [
    {
     "name": "stdout",
     "output_type": "stream",
     "text": [
      "[2, 4]\n"
     ]
    }
   ],
   "source": [
    "# filter\n",
    "nums=[1,2,3,4,5]\n",
    "evens= list(filter(lambda x:x%2==0,nums))\n",
    "print(evens)"
   ]
  },
  {
   "cell_type": "code",
   "execution_count": null,
   "id": "e7ec743c",
   "metadata": {},
   "outputs": [
    {
     "name": "stdout",
     "output_type": "stream",
     "text": [
      "17 210\n"
     ]
    }
   ],
   "source": [
    "# Reduce Operator\n",
    "from functools import reduce\n",
    "nums=[2,3,7,5]\n",
    "total = reduce(lambda x,y:x+y,nums)\n",
    "product= reduce(lambda x,y:x*y,nums)\n",
    "print(total,product)"
   ]
  },
  {
   "cell_type": "code",
   "execution_count": 12,
   "id": "ea7117e2",
   "metadata": {},
   "outputs": [
    {
     "name": "stdout",
     "output_type": "stream",
     "text": [
      "False\n"
     ]
    }
   ],
   "source": [
    "# check if list is sorted(increasing order) using reduce operation\n",
    "nums=[5,3,5,9,2]\n",
    "is_sorted=reduce(lambda x,y:(y,x[1] and y>x[0]) if type(x)==tuple else (y,y>x),nums)[1]\n",
    "print(is_sorted)\n"
   ]
  },
  {
   "cell_type": "code",
   "execution_count": 14,
   "id": "928608ad",
   "metadata": {},
   "outputs": [
    {
     "ename": "FileNotFoundError",
     "evalue": "[Errno 2] No such file or directory: 'abcd.txt'",
     "output_type": "error",
     "traceback": [
      "\u001b[1;31m---------------------------------------------------------------------------\u001b[0m",
      "\u001b[1;31mFileNotFoundError\u001b[0m                         Traceback (most recent call last)",
      "Cell \u001b[1;32mIn[14], line 3\u001b[0m\n\u001b[0;32m      1\u001b[0m \u001b[38;5;66;03m# file handling\u001b[39;00m\n\u001b[1;32m----> 3\u001b[0m \u001b[38;5;28;01mwith\u001b[39;00m \u001b[38;5;28mopen\u001b[39m(\u001b[38;5;124m\"\u001b[39m\u001b[38;5;124mabcd.txt\u001b[39m\u001b[38;5;124m\"\u001b[39m,\u001b[38;5;124m\"\u001b[39m\u001b[38;5;124mr\u001b[39m\u001b[38;5;124m\"\u001b[39m) \u001b[38;5;28;01mas\u001b[39;00m f:\n\u001b[0;32m      4\u001b[0m     \u001b[38;5;28;01mpass\u001b[39;00m\n",
      "File \u001b[1;32mc:\\Users\\surek\\anaconda3\\Lib\\site-packages\\IPython\\core\\interactiveshell.py:324\u001b[0m, in \u001b[0;36m_modified_open\u001b[1;34m(file, *args, **kwargs)\u001b[0m\n\u001b[0;32m    317\u001b[0m \u001b[38;5;28;01mif\u001b[39;00m file \u001b[38;5;129;01min\u001b[39;00m {\u001b[38;5;241m0\u001b[39m, \u001b[38;5;241m1\u001b[39m, \u001b[38;5;241m2\u001b[39m}:\n\u001b[0;32m    318\u001b[0m     \u001b[38;5;28;01mraise\u001b[39;00m \u001b[38;5;167;01mValueError\u001b[39;00m(\n\u001b[0;32m    319\u001b[0m         \u001b[38;5;124mf\u001b[39m\u001b[38;5;124m\"\u001b[39m\u001b[38;5;124mIPython won\u001b[39m\u001b[38;5;124m'\u001b[39m\u001b[38;5;124mt let you open fd=\u001b[39m\u001b[38;5;132;01m{\u001b[39;00mfile\u001b[38;5;132;01m}\u001b[39;00m\u001b[38;5;124m by default \u001b[39m\u001b[38;5;124m\"\u001b[39m\n\u001b[0;32m    320\u001b[0m         \u001b[38;5;124m\"\u001b[39m\u001b[38;5;124mas it is likely to crash IPython. If you know what you are doing, \u001b[39m\u001b[38;5;124m\"\u001b[39m\n\u001b[0;32m    321\u001b[0m         \u001b[38;5;124m\"\u001b[39m\u001b[38;5;124myou can use builtins\u001b[39m\u001b[38;5;124m'\u001b[39m\u001b[38;5;124m open.\u001b[39m\u001b[38;5;124m\"\u001b[39m\n\u001b[0;32m    322\u001b[0m     )\n\u001b[1;32m--> 324\u001b[0m \u001b[38;5;28;01mreturn\u001b[39;00m io_open(file, \u001b[38;5;241m*\u001b[39margs, \u001b[38;5;241m*\u001b[39m\u001b[38;5;241m*\u001b[39mkwargs)\n",
      "\u001b[1;31mFileNotFoundError\u001b[0m: [Errno 2] No such file or directory: 'abcd.txt'"
     ]
    }
   ],
   "source": [
    "# file handling\n",
    "\n",
    "with open(\"abcd.txt\",\"r\") as f:\n",
    "    pass"
   ]
  },
  {
   "cell_type": "code",
   "execution_count": null,
   "id": "e6179c6c",
   "metadata": {},
   "outputs": [],
   "source": [
    "with open(\"abcd.txt\",'w') as f: # creates a file if it doesnt exist\n",
    "    f.write(\"this is a sample line\\n\")\n",
    "    f.write(\"this is a sample line\\n\")\n",
    "    f.write(\"this is a sample line\\n\")\n",
    "    f.write(\"this is a sample line\\n\")"
   ]
  },
  {
   "cell_type": "code",
   "execution_count": null,
   "id": "29a27e21",
   "metadata": {},
   "outputs": [
    {
     "name": "stdout",
     "output_type": "stream",
     "text": [
      "this is a sample line\n",
      "this is a sample line\n",
      "this is a sample line\n",
      "this is a sample line\n",
      "\n"
     ]
    }
   ],
   "source": [
    "with open(\"abcd.txt\",'r') as f:  # throws error if file doesnt exist\n",
    "    data=f.read()\n",
    "    print(data)"
   ]
  },
  {
   "cell_type": "code",
   "execution_count": 24,
   "id": "0abda33a",
   "metadata": {},
   "outputs": [],
   "source": [
    "with open(\"abcd.txt\",'a') as f:  # 'a' is used to append data to a file\n",
    "    f.write(\"this is a appended line\\n\")"
   ]
  },
  {
   "cell_type": "code",
   "execution_count": 25,
   "id": "f5cc7ea4",
   "metadata": {},
   "outputs": [
    {
     "name": "stdout",
     "output_type": "stream",
     "text": [
      "this is a sample line\n",
      "this is a sample line\n",
      "this is a sample line\n",
      "this is a sample line\n",
      "this is a appended line\n",
      "\n"
     ]
    }
   ],
   "source": [
    "with open(\"abcd.txt\",'r') as f:  # throws error if file doesnt exist\n",
    "    data=f.read()\n",
    "    print(data)"
   ]
  },
  {
   "cell_type": "code",
   "execution_count": null,
   "id": "d6132c79",
   "metadata": {},
   "outputs": [
    {
     "name": "stdout",
     "output_type": "stream",
     "text": [
      "this is a sample line\n",
      "\n"
     ]
    }
   ],
   "source": [
    "with open(\"abcd.txt\",'r') as f:  \n",
    "    data=f.readline() # reads a single line\n",
    "    print(data)"
   ]
  },
  {
   "cell_type": "code",
   "execution_count": 28,
   "id": "15e62d5a",
   "metadata": {},
   "outputs": [
    {
     "name": "stdout",
     "output_type": "stream",
     "text": [
      "['this is a sample line\\n', 'this is a sample line\\n', 'this is a sample line\\n', 'this is a sample line\\n', 'this is a appended line\\n']\n"
     ]
    }
   ],
   "source": [
    "with open(\"abcd.txt\",'r') as f:  \n",
    "    data=f.readlines() # reads all lines and returns in form of list\n",
    "    print(data)"
   ]
  },
  {
   "cell_type": "code",
   "execution_count": null,
   "id": "ecf26a49",
   "metadata": {},
   "outputs": [
    {
     "name": "stdout",
     "output_type": "stream",
     "text": [
      "sample line\n",
      "\n"
     ]
    }
   ],
   "source": [
    "with open(\"abcd.txt\",'r') as f:  # skips a specific number of characters\n",
    "    f.seek(10)\n",
    "    data=f.readline()\n",
    "    print(data)"
   ]
  },
  {
   "cell_type": "code",
   "execution_count": null,
   "id": "1f6b28cf",
   "metadata": {},
   "outputs": [
    {
     "name": "stdout",
     "output_type": "stream",
     "text": [
      "this is a sample line\n",
      "\n",
      "this is a sample line\n",
      "\n",
      "\n"
     ]
    }
   ],
   "source": [
    "with open(\"abcd.txt\",'r+') as f: # writes at the end\n",
    "    # data=f.readlines()\n",
    "    # for line in data:\n",
    "    #     print(line,end=\" \")\n",
    "    print(f.readline())\n",
    "    print(f.readline())\n",
    "    f.write(\"new line\\n\")\n",
    "    print(f.read())  # doesnt print anything since f.write causes the file pointer to point at the end of line"
   ]
  },
  {
   "cell_type": "code",
   "execution_count": null,
   "id": "4c736f7d",
   "metadata": {},
   "outputs": [
    {
     "name": "stdout",
     "output_type": "stream",
     "text": [
      "first two lines:\n",
      "\n",
      "\n",
      "All remaining content:\n",
      "\n",
      "writing in w+ mode\n"
     ]
    }
   ],
   "source": [
    "with open(\"abcd.txt\",'w+') as f:  #  replaces the old content with new content\n",
    "    print(\"first two lines:\")\n",
    "    print(f.readline())\n",
    "    print(f.readline())\n",
    "    print(\"All remaining content:\")\n",
    "    print(f.read())\n",
    "    f.write(\"writing in w+ mode\")\n",
    "    f.seek(0)\n",
    "    print(f.read())\n"
   ]
  },
  {
   "cell_type": "markdown",
   "id": "33c1d84b",
   "metadata": {},
   "source": [
    "### Exception Handling"
   ]
  },
  {
   "cell_type": "code",
   "execution_count": 3,
   "id": "fc5d5e35",
   "metadata": {},
   "outputs": [
    {
     "name": "stdout",
     "output_type": "stream",
     "text": [
      "3\n",
      "writing in w+ mode\n",
      "inside else block\n",
      "inside finally block\n",
      "after try except block\n"
     ]
    }
   ],
   "source": [
    "try:\n",
    "    a=int(input(\"Enter anumber\"))\n",
    "    print(a)\n",
    "    with open(\"abcd.txt\",\"r\") as f:\n",
    "        print(f.read())\n",
    "except ValueError as e:\n",
    "    print(e)\n",
    "except FileNotFoundError as e:\n",
    "    print(e)\n",
    "else: # this is executed when there is no exception raised in try block\n",
    "    print(\"inside else block\")\n",
    "finally: # this block is always executed,whetehr or not exception raised in try block\n",
    "    print(\"inside finally block\")\n",
    "\n",
    "print(\"after try except block\")\n"
   ]
  },
  {
   "cell_type": "code",
   "execution_count": 7,
   "id": "8ef63d71",
   "metadata": {},
   "outputs": [
    {
     "name": "stdout",
     "output_type": "stream",
     "text": [
      "5\n",
      "writing in w+ mode\n",
      "Error: division by zero\n",
      "inside finally block\n",
      "after try except block\n"
     ]
    }
   ],
   "source": [
    "try:\n",
    "    a=int(input(\"Enter anumber\"))\n",
    "    print(a)\n",
    "    with open(\"abcd.txt\",\"r\") as f:\n",
    "        print(f.read())\n",
    "    n=12/0\n",
    "except Exception as e:\n",
    "    print(\"Error:\",e)\n",
    "else: # this is executed when there is no exception raised in try block\n",
    "    print(\"inside else block\")\n",
    "finally: # this block is always executed,whetehr or not exception raised in try block\n",
    "    print(\"inside finally block\")\n",
    "\n",
    "print(\"after try except block\")\n"
   ]
  },
  {
   "cell_type": "markdown",
   "id": "55f10dfc",
   "metadata": {},
   "source": [
    "### Logging"
   ]
  },
  {
   "cell_type": "code",
   "execution_count": null,
   "id": "15b36ccf",
   "metadata": {},
   "outputs": [
    {
     "name": "stderr",
     "output_type": "stream",
     "text": [
      "INFO:root:App started\n"
     ]
    }
   ],
   "source": [
    "# basic logging\n",
    "import logging\n",
    "logging.basicConfig(level=logging.INFO)\n",
    "logging.info(\"App started\")"
   ]
  },
  {
   "cell_type": "code",
   "execution_count": null,
   "id": "efbcd6c5",
   "metadata": {},
   "outputs": [
    {
     "name": "stderr",
     "output_type": "stream",
     "text": [
      "INFO:root:This is a info message\n"
     ]
    }
   ],
   "source": [
    "# logging levels\n",
    "import logging\n",
    "logger=logging.getLogger(\"mylogger\")\n",
    "logger.setLevel(logging.INFO)\n",
    "logging.info(\"This is a info message\")"
   ]
  },
  {
   "cell_type": "code",
   "execution_count": 12,
   "id": "cccec2b5",
   "metadata": {},
   "outputs": [
    {
     "name": "stderr",
     "output_type": "stream",
     "text": [
      "INFO:root:This is a info msg\n",
      "WARNING:root:this is a warning msg\n"
     ]
    },
    {
     "name": "stdout",
     "output_type": "stream",
     "text": [
      "0 20 50\n"
     ]
    }
   ],
   "source": [
    "import logging\n",
    "logger=logging.getLogger(\"mylogger\")\n",
    "logger.setLevel(logging.INFO)\n",
    "logging.info(\"This is a info msg\")\n",
    "logging.debug(\"this is a debug msg\")\n",
    "logging.warning(\"this is a warning msg\")\n",
    "\n",
    "print(logging.NOTSET,logging.INFO,logging.CRITICAL)"
   ]
  },
  {
   "cell_type": "code",
   "execution_count": 15,
   "id": "79ecbad8",
   "metadata": {},
   "outputs": [
    {
     "name": "stderr",
     "output_type": "stream",
     "text": [
      "This is a info msg\n",
      "This is a info msg\n",
      "This is a info msg\n",
      "INFO:mylogger:This is a info msg\n",
      "This is a warning message\n",
      "This is a warning message\n",
      "This is a warning message\n",
      "WARNING:mylogger:This is a warning message\n"
     ]
    }
   ],
   "source": [
    "import logging\n",
    "logger=logging.getLogger(\"mylogger\")\n",
    "logger.setLevel(logging.INFO)\n",
    "\n",
    "stream_handler=logging.StreamHandler()\n",
    "logger.addHandler(stream_handler)\n",
    "\n",
    "dev_file_handler=logging.FileHandler(\"app_dev.log\")\n",
    "logger.addHandler(dev_file_handler)\n",
    "\n",
    "test_file_handler=logging.FileHandler(\"app_test.log\")\n",
    "logger.addHandler(test_file_handler)\n",
    "\n",
    "logger.info(\"This is a info msg\")\n",
    "logger.debug(\"This is a debug msg\")\n",
    "logger.warning(\"This is a warning message\")"
   ]
  },
  {
   "cell_type": "code",
   "execution_count": null,
   "id": "7883d26d",
   "metadata": {},
   "outputs": [
    {
     "name": "stderr",
     "output_type": "stream",
     "text": [
      "Info msg passed to the handlers.\n",
      "Error msg passed to the handlers.\n",
      "This is a critical msg.\n"
     ]
    }
   ],
   "source": [
    "import logging\n",
    "logger=logging.getLogger(\"mylogger\")\n",
    "logger.setLevel(logging.INFO)\n",
    "logger.propagate=False\n",
    "\n",
    "# remove all existing handlers\n",
    "if(logger.hasHandlers()):\n",
    "    logger.handlers.clear()\n",
    "\n",
    "stream_handler=logging.StreamHandler()\n",
    "logger.addHandler(stream_handler)\n",
    "\n",
    "file_handler=logging.FileHandler(\"app.log\")\n",
    "file_handler.setLevel(logging.CRITICAL)\n",
    "logger.addHandler(file_handler)\n",
    "\n",
    "logger.debug(\"Debug msg passed to the handlers.\") #not printed due lower level than the others\n",
    "logger.info(\"Info msg passed to the handlers.\")\n",
    "logger.error(\"Error msg passed to the handlers.\")\n",
    "logger.critical(\"This is a critical msg.\")\n",
    "logging.shutdown()"
   ]
  },
  {
   "cell_type": "code",
   "execution_count": 25,
   "id": "db1d267b",
   "metadata": {},
   "outputs": [
    {
     "name": "stderr",
     "output_type": "stream",
     "text": [
      "INFO:my_logger:App started\n"
     ]
    }
   ],
   "source": [
    "# formatting\n",
    "import logging\n",
    "from logging.handlers import RotatingFileHandler\n",
    "\n",
    "logger=logging.getLogger(\"my_logger\")\n",
    "logger.setLevel(logging.INFO)\n",
    "\n",
    "# remove all existing handlers\n",
    "if(logger.hasHandlers()):\n",
    "    logger.handlers.clear()\n",
    "\n",
    "handler=RotatingFileHandler(\"app.log\",maxBytes=200,backupCount=3)\n",
    "formatter=logging.Formatter('%(asctime)s - %(name)s - %(levelname)s - %(message)s')\n",
    "handler.setFormatter(formatter)\n",
    "logger.addHandler(handler)\n",
    "\n",
    "logger.info(\"App started\")\n",
    "logging.shutdown()"
   ]
  },
  {
   "cell_type": "code",
   "execution_count": null,
   "id": "ee12565c",
   "metadata": {},
   "outputs": [],
   "source": []
  }
 ],
 "metadata": {
  "kernelspec": {
   "display_name": "base",
   "language": "python",
   "name": "python3"
  },
  "language_info": {
   "codemirror_mode": {
    "name": "ipython",
    "version": 3
   },
   "file_extension": ".py",
   "mimetype": "text/x-python",
   "name": "python",
   "nbconvert_exporter": "python",
   "pygments_lexer": "ipython3",
   "version": "3.12.7"
  }
 },
 "nbformat": 4,
 "nbformat_minor": 5
}
