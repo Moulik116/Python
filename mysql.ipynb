{
 "cells": [
  {
   "cell_type": "code",
   "execution_count": 7,
   "id": "944d14f9",
   "metadata": {},
   "outputs": [
    {
     "name": "stdout",
     "output_type": "stream",
     "text": [
      "Connected to database: <mysql.connector.connection_cext.CMySQLConnection object at 0x000001A9D304C740>\n"
     ]
    }
   ],
   "source": [
    "import mysql.connector as connector\n",
    "mydb=connector.connect(\n",
    "    host='localhost',\n",
    "    user='root',\n",
    "    password='root',\n",
    "    port=3306\n",
    ")\n",
    "\n",
    "print('Connected to database:',mydb)\n",
    "\n",
    "# cursor=mydb.cursor()\n",
    "# result=cursor.fetchall()\n",
    "# for db_name in result:\n",
    "#     print(db_name)"
   ]
  },
  {
   "cell_type": "code",
   "execution_count": 6,
   "id": "8a238be8",
   "metadata": {},
   "outputs": [],
   "source": [
    "query = \"\"\"CREATE DATABASE IF NOT EXISTS user_management\"\"\"\n",
    "cursor.execute(query)\n",
    "mydb.commit()"
   ]
  },
  {
   "cell_type": "code",
   "execution_count": 8,
   "id": "e6380483",
   "metadata": {},
   "outputs": [],
   "source": [
    "cursor=mydb.cursor()\n",
    "query=\"USE user_management\"\n",
    "cursor.execute(query)\n",
    "\n",
    "query=\"\"\"CREATE TABLE IF NOT EXISTS users(\n",
    "    id INT,\n",
    "    username VARCHAR(50),\n",
    "    email VARCHAR(100))\"\"\"\n",
    "\n",
    "cursor.execute(query)\n",
    "mydb.commit()"
   ]
  },
  {
   "cell_type": "code",
   "execution_count": 11,
   "id": "468eb552",
   "metadata": {},
   "outputs": [],
   "source": [
    "# query=\"\"\"INSERT INTO users(id,username,email) VALUES(1,'user1','user1@example.com')\"\"\"\n",
    "# cursor.execute(query)\n",
    "# mydb.commit()\n",
    "query=\"\"\"INSERT INTO users(id,username,email) VALUES(2,'user2','user2@example.com'),(3,'user3','user3@example.com')\"\"\"\n",
    "cursor.execute(query)\n",
    "mydb.commit()\n",
    "\n"
   ]
  },
  {
   "cell_type": "code",
   "execution_count": 12,
   "id": "68cd9eba",
   "metadata": {},
   "outputs": [
    {
     "name": "stdout",
     "output_type": "stream",
     "text": [
      "(1, 'user1', 'user1@example.com')\n",
      "########################################\n",
      "(2, 'user2', 'user2@example.com')\n",
      "(3, 'user3', 'user3@example.com')\n"
     ]
    }
   ],
   "source": [
    "query=\"SELECT * FROM users\"\n",
    "result=cursor.execute(query)\n",
    "row=cursor.fetchone()\n",
    "print(row)\n",
    "print(\"#\"*40)\n",
    "rows=cursor.fetchall()\n",
    "for row in rows:\n",
    "    print(row)"
   ]
  },
  {
   "cell_type": "code",
   "execution_count": null,
   "id": "ec1bd411",
   "metadata": {},
   "outputs": [],
   "source": []
  }
 ],
 "metadata": {
  "kernelspec": {
   "display_name": "base",
   "language": "python",
   "name": "python3"
  },
  "language_info": {
   "codemirror_mode": {
    "name": "ipython",
    "version": 3
   },
   "file_extension": ".py",
   "mimetype": "text/x-python",
   "name": "python",
   "nbconvert_exporter": "python",
   "pygments_lexer": "ipython3",
   "version": "3.12.7"
  }
 },
 "nbformat": 4,
 "nbformat_minor": 5
}
